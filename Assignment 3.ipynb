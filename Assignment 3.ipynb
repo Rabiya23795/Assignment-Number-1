{
 "cells": [
  {
   "cell_type": "code",
   "execution_count": 11,
   "metadata": {},
   "outputs": [
    {
     "name": "stdout",
     "output_type": "stream",
     "text": [
      "Enter first value5\n",
      "Enter second value3\n",
      "Enter operator**\n",
      "125 answer\n"
     ]
    }
   ],
   "source": [
    "val1 = input('Enter first value')\n",
    "val2 = input('Enter second value')\n",
    "operator = input('Enter operator')\n",
    "val1 = int(val1)\n",
    "val2 = int(val2)\n",
    "\n",
    "if operator == '+': \n",
    "    val = val1 + val2\n",
    "    print(val,'answer')\n",
    "elif operator == '-': \n",
    "    val = val1 - val2\n",
    "    print(val,'answer')\n",
    "elif operator == '*':\n",
    "    val = val1 * val2\n",
    "    print(val,'answer')\n",
    "elif operator == '/':\n",
    "    val = val1 / val2\n",
    "    print(val,'answer')\n",
    "elif operator == '**':\n",
    "    val = val1 ** val2\n",
    "    print(val,'answer')\n",
    "\n",
    "else :\n",
    "    print('Enter correct operator')"
   ]
  },
  {
   "cell_type": "code",
   "execution_count": 17,
   "metadata": {},
   "outputs": [
    {
     "name": "stdout",
     "output_type": "stream",
     "text": [
      "Enter value23\n",
      "The numeric value is not present\n"
     ]
    }
   ],
   "source": [
    "name = (\"Ali\",\"Hamza\",\"Hasnain\",\"Bilal\",\"Hunain\",\"Umer\")\n",
    "\n",
    "val = input('Enter value')\n",
    "for n in name:\n",
    "    if val == n:\n",
    "        print('The numeric value is present')\n",
    "\n",
    "    else:\n",
    "        print('The numeric value is not present')\n",
    "        break"
   ]
  },
  {
   "cell_type": "code",
   "execution_count": 30,
   "metadata": {},
   "outputs": [
    {
     "name": "stdout",
     "output_type": "stream",
     "text": [
      "{'First name': 'Tariq', 'last name': 'Khan', 'Gender': 'Male', 'Address': 'Karachi'}\n"
     ]
    }
   ],
   "source": [
    "client = {\n",
    "    \"First name\":\"Tariq\",\n",
    "    \"last name\":\"Khan\", \n",
    "    \"Gender\":\"Male\"\n",
    "}\n",
    "client['Address'] = 'Karachi'\n",
    "print(client)"
   ]
  },
  {
   "cell_type": "code",
   "execution_count": 28,
   "metadata": {},
   "outputs": [
    {
     "name": "stdout",
     "output_type": "stream",
     "text": [
      "3811\n"
     ]
    }
   ],
   "source": [
    "data = {\n",
    "    \"a\":123,\n",
    "    \"b\":345,\n",
    "    \"c\":786,\n",
    "    \"d\":547,\n",
    "    \"e\":123,\n",
    "    \"f\":547,\n",
    "    \"g\":890,\n",
    "    \"h\":450\n",
    "}\n",
    "print(sum(data.values()))"
   ]
  },
  {
   "cell_type": "code",
   "execution_count": 5,
   "metadata": {},
   "outputs": [
    {
     "name": "stdout",
     "output_type": "stream",
     "text": [
      "2471\n"
     ]
    }
   ],
   "source": [
    "data = {\n",
    "    \"a\":123,\n",
    "    \"b\":345,\n",
    "    \"c\":786,\n",
    "    \"d\":547,\n",
    "    \"e\":123,\n",
    "    \"f\":547\n",
    "}\n",
    "print(sum(data.values()))"
   ]
  },
  {
   "cell_type": "code",
   "execution_count": 24,
   "metadata": {},
   "outputs": [
    {
     "name": "stdout",
     "output_type": "stream",
     "text": [
      "initial_dictionary {'a': 123, 'b': 345, 'c': 786, 'd': 547, 'e': 123, 'f': 547}\n",
      "duplicate values [123, 547]\n"
     ]
    }
   ],
   "source": [
    "data = { \n",
    "    \"a\":123,\n",
    "    \"b\":345,\n",
    "    \"c\":786,\n",
    "    \"d\":547,\n",
    "    \"e\":123,\n",
    "    \"f\":547\n",
    "} \n",
    "   \n",
    "print(\"initial_dictionary\", str(data)) \n",
    "  \n",
    "rev_dict = {} \n",
    "  \n",
    "for key, value in data.items(): \n",
    "    rev_dict.setdefault(value, set()).add(key) \n",
    "      \n",
    "result = [key for key, values in rev_dict.items() \n",
    "                              if len(values) > 1] \n",
    "   \n",
    "print(\"duplicate values\", str(result)) \n"
   ]
  },
  {
   "cell_type": "code",
   "execution_count": 31,
   "metadata": {},
   "outputs": [
    {
     "name": "stdout",
     "output_type": "stream",
     "text": [
      "Exist,  value = 547\n",
      "Don't Exist\n"
     ]
    }
   ],
   "source": [
    "def checkKey(data, key): \n",
    "      \n",
    "    if key in data.keys(): \n",
    "        print(\"Exist, \", end =\" \") \n",
    "        print(\"value =\", data[key]) \n",
    "    else: \n",
    "        print(\"Don't Exist\") \n",
    "data = {\n",
    "    \"a\":123,\n",
    "    \"b\":345,\n",
    "    \"c\":786,\n",
    "    \"d\":547,\n",
    "    \"e\":123,\n",
    "    \"f\":547\n",
    "}\n",
    "key = 'f'\n",
    "checkKey(data, key) \n",
    "  \n",
    "key = 'r'\n",
    "checkKey(data, key) "
   ]
  },
  {
   "cell_type": "code",
   "execution_count": null,
   "metadata": {},
   "outputs": [],
   "source": []
  }
 ],
 "metadata": {
  "kernelspec": {
   "display_name": "Python 3",
   "language": "python",
   "name": "python3"
  }
 },
 "nbformat": 4,
 "nbformat_minor": 2
}
