{
 "cells": [
  {
   "cell_type": "code",
   "execution_count": 14,
   "metadata": {},
   "outputs": [
    {
     "name": "stdout",
     "output_type": "stream",
     "text": [
      "{'first_name': 'Bilal', 'last_name': 'Ahmed', 'age': '20', 'city': 'Karachi', 'qualification': 'Metric'}\n"
     ]
    }
   ],
   "source": [
    "person={\n",
    "    \"first_name\" : \"Bilal\",\n",
    "    \"last_name\" : \"Ahmed\",\n",
    "    \"age\" : \"20\",\n",
    "    \"city\" : \"Karachi\",\n",
    "    \"qualification\":\"Metric\"\n",
    "}\n",
    "\n",
    "print(person)"
   ]
  },
  {
   "cell_type": "code",
   "execution_count": 3,
   "metadata": {},
   "outputs": [
    {
     "name": "stdout",
     "output_type": "stream",
     "text": [
      "{'first_name': 'Bilal', 'last_name': 'Ahmed', 'age': '20', 'city': 'Karachi'}\n"
     ]
    }
   ],
   "source": [
    "person={\n",
    "    \"first_name\" : \"Bilal\",\n",
    "    \"last_name\" : \"Ahmed\",\n",
    "    \"age\" : \"20\",\n",
    "    \"city\" : \"Karachi\",\n",
    "    \"qualification\":\"Metric\"\n",
    "}\n",
    "del person[\"qualification\"]\n",
    "print(person)\n"
   ]
  },
  {
   "cell_type": "code",
   "execution_count": 30,
   "metadata": {},
   "outputs": [
    {
     "name": "stdout",
     "output_type": "stream",
     "text": [
      "Bilal\n",
      "Ahmed\n",
      "20\n",
      "karachi\n"
     ]
    }
   ],
   "source": [
    "person = {\n",
    "    'first_name': 'Bilal',\n",
    "    'last_name': 'Ahmed',\n",
    "    'age': 20,\n",
    "    'city': 'karachi',\n",
    "    }\n",
    "\n",
    "print(person['first_name'])\n",
    "print(person['last_name'])\n",
    "print(person['age'])\n",
    "print(person['city'])"
   ]
  },
  {
   "cell_type": "code",
   "execution_count": 15,
   "metadata": {},
   "outputs": [
    {
     "name": "stdout",
     "output_type": "stream",
     "text": [
      "Pakistan\n"
     ]
    }
   ],
   "source": [
    "cities = [\n",
    "\n",
    "    {\n",
    "        \"country\":\"Pakistan\",\n",
    "        \"population\":\"10 million\",\n",
    "        \"fact\":\"Intenational city\"\n",
    "    },\n",
    "\n",
    "    {\n",
    "        \"country\":\"Pakistan\",\n",
    "        \"population\":\"8 milion\",\n",
    "        \"fact\":\"cspitsl of PUNJAB\"\n",
    "    },\n",
    "\n",
    "    {\n",
    "        \"country\":\"Pakistan\",\n",
    "        \"population\":\"5 million\",\n",
    "        \"fact\":\"Capital of PAKISTAN\"\n",
    "    }\n",
    "]\n",
    "print(cities[0][\"country\"])"
   ]
  },
  {
   "cell_type": "code",
   "execution_count": 23,
   "metadata": {},
   "outputs": [
    {
     "name": "stdout",
     "output_type": "stream",
     "text": [
      "Pakistan\n"
     ]
    }
   ],
   "source": [
    "cities={\n",
    "    0:{\n",
    "        \"country\":\"Pakistan\",\n",
    "        \"population\":\"10 million\",\n",
    "        \"fact\":\"Intenational city\"\n",
    "    }}\n",
    "print(cities[0][\"country\"])"
   ]
  },
  {
   "cell_type": "code",
   "execution_count": 29,
   "metadata": {},
   "outputs": [
    {
     "name": "stdout",
     "output_type": "stream",
     "text": [
      "\n",
      "Karachi is in Pakistan.\n",
      "  It has a population of about 15741000.\n",
      "  It is International Popular City.\n",
      "\n",
      "Lahore is in Pakistan.\n",
      "  It has a population of about 12188000.\n",
      "  It is Second Largest City Of Pakistan.\n",
      "\n",
      "Islamabad is in Pakistan.\n",
      "  It has a population of about 1095064.\n",
      "  It is World'S Fourth Largest Mosque Situated In Islamabad.\n"
     ]
    }
   ],
   "source": [
    "cities = {\n",
    "    'Karachi': {\n",
    "        'country': 'Pakistan',\n",
    "        'population': 15741000,\n",
    "        'fact': 'international Popular City',\n",
    "        },\n",
    "    'Lahore': {\n",
    "        'country': 'Pakistan',\n",
    "        'population': 12188000,\n",
    "        'fact': 'second largest city of Pakistan',\n",
    "        },\n",
    "    'Islamabad': {\n",
    "        'country': 'Pakistan',\n",
    "        'population': 1095064,\n",
    "        'fact': \"World's fourth largest mosque situated in Islamabad\",\n",
    "        }\n",
    "    }\n",
    "\n",
    "for city, city_info in cities.items():\n",
    "    country = city_info['country'].title()\n",
    "    population = city_info['population']\n",
    "    fact = city_info['fact'].title()\n",
    "\n",
    "    print(\"\\n\" + city.title() + \" is in \" + country + \".\")\n",
    "    print(\"  It has a population of about \" + str(population) + \".\")\n",
    "    print(\"  It is \" + fact +\".\")"
   ]
  },
  {
   "cell_type": "code",
   "execution_count": 38,
   "metadata": {},
   "outputs": [
    {
     "name": "stdout",
     "output_type": "stream",
     "text": [
      "How old are you?\n",
      "Enter 'quit' when you are finished. 12\n",
      "  Your ticket is $10.\n",
      "How old are you?\n",
      "Enter 'quit' when you are finished. 2\n",
      "  You get in free!\n",
      "How old are you?\n",
      "Enter 'quit' when you are finished. 25\n",
      "  Your ticket is $15.\n",
      "How old are you?\n",
      "Enter 'quit' when you are finished. quit\n"
     ]
    }
   ],
   "source": [
    "prompt = \"How old are you?\"\n",
    "prompt += \"\\nEnter 'quit' when you are finished. \"\n",
    "\n",
    "while True:\n",
    "    age = input(prompt)\n",
    "    if age == 'quit':\n",
    "        break\n",
    "    age = int(age)\n",
    "\n",
    "    if age < 3:\n",
    "        print(\"  You get in free!\")\n",
    "    elif age < 12:\n",
    "        print(\"  Your ticket is $10.\")\n",
    "    else:\n",
    "        print(\"  Your ticket is $15.\")"
   ]
  },
  {
   "cell_type": "code",
   "execution_count": 40,
   "metadata": {},
   "outputs": [
    {
     "name": "stdout",
     "output_type": "stream",
     "text": [
      "Alice in Wonderland is one of my favorite books.\n"
     ]
    }
   ],
   "source": [
    "def favorite_book(title):\n",
    "    \"\"\"Display a message about someone's favorite book.\"\"\"\n",
    "    print(title + \" is one of my favorite books.\")\n",
    "\n",
    "favorite_book('Alice in Wonderland')"
   ]
  },
  {
   "cell_type": "code",
   "execution_count": null,
   "metadata": {},
   "outputs": [
    {
     "name": "stdout",
     "output_type": "stream",
     "text": [
      "Guess a number between 1 and 30: 23\n",
      "Your guess is 23\n",
      "Your guess was too high: guess again!09\n",
      "Your guess is 09\n",
      "Your guess was too low: guess again!19\n",
      "Your guess is 19\n",
      "Your guess was too high: guess again!31\n",
      "Your guess is 31\n"
     ]
    }
   ],
   "source": [
    "import random\n",
    "\n",
    "num = random.randint(1, 30)\n",
    "\n",
    "def user_guess():\n",
    "    guess = input(\"Guess a number between 1 and 30: \")\n",
    "    print(\"Your guess is\", guess)\n",
    "    guess = int(guess)\n",
    "    \n",
    "    while guess != num:\n",
    "        if guess < num:\n",
    "            guess = input(\"Your guess was too low: guess again!\")\n",
    "            print(\"Your guess is\", guess)\n",
    "            guess = int(guess)\n",
    "        if guess > num:\n",
    "            guess = input(\"Your guess was too high: guess again!\")\n",
    "            print(\"Your guess is\", guess)\n",
    "            guess = int(guess)\n",
    "        if guess == num:\n",
    "            print(\"Correct! Well done!\")\n",
    "            break \n",
    "user_guess()"
   ]
  },
  {
   "cell_type": "code",
   "execution_count": 2,
   "metadata": {},
   "outputs": [
    {
     "name": "stdout",
     "output_type": "stream",
     "text": [
      "{'first_name': 'Bilal', 'last_name': 'Ahmed', 'age': '20', 'city': 'Karachi'}\n"
     ]
    }
   ],
   "source": [
    "person={\n",
    "    \"first_name\" : \"Bilal\",\n",
    "    \"last_name\" : \"Ahmed\",\n",
    "    \"age\" : \"20\",\n",
    "    \"city\" : \"Karachi\",\n",
    "    \"qualification\":\"Metric\"\n",
    "}\n",
    "del person[\"qualification\"]\n",
    "print(person)\n"
   ]
  },
  {
   "cell_type": "code",
   "execution_count": null,
   "metadata": {},
   "outputs": [],
   "source": []
  },
  {
   "cell_type": "code",
   "execution_count": null,
   "metadata": {},
   "outputs": [],
   "source": []
  },
  {
   "cell_type": "code",
   "execution_count": null,
   "metadata": {},
   "outputs": [],
   "source": []
  }
 ],
 "metadata": {
  "kernelspec": {
   "display_name": "Python 3",
   "language": "python",
   "name": "python3"
  }
 },
 "nbformat": 4,
 "nbformat_minor": 2
}
