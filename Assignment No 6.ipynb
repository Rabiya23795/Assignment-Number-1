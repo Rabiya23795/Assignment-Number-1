{
 "cells": [
  {
   "cell_type": "code",
   "execution_count": 1,
   "metadata": {},
   "outputs": [
    {
     "name": "stdout",
     "output_type": "stream",
     "text": [
      "Hello World\n"
     ]
    }
   ],
   "source": [
    "print(\"Hello World\")"
   ]
  },
  {
   "cell_type": "code",
   "execution_count": 3,
   "metadata": {},
   "outputs": [
    {
     "name": "stdout",
     "output_type": "stream",
     "text": [
      "cultus\n",
      "suzuki swift\n",
      "white\n",
      "45000000\n",
      "1985\n",
      "\n",
      "\n",
      "Mercedez\n",
      "S-Class\n",
      "Black\n",
      "650000000\n",
      "1965\n",
      "\n",
      "\n",
      "toyota\n",
      "corolla\n",
      "white\n",
      "2625000\n",
      "2018\n",
      "\n",
      "\n",
      "Honda\n",
      "Grace\n",
      "red\n",
      "55000000\n",
      "2014\n",
      "\n",
      "\n",
      "Alto\n",
      "hatch\n",
      "black\n",
      "2500000\n",
      "1985\n",
      "\n",
      "\n"
     ]
    }
   ],
   "source": [
    "class Car():\n",
    "    def __init__(car,name,model,color,price,madein):\n",
    "        car.name = name\n",
    "        car.model = model\n",
    "        car.color = color\n",
    "        car.price = price\n",
    "        car.madein = madein\n",
    "        \n",
    "car1 = Car('cultus','suzuki swift', 'white',45000000, 1985)\n",
    "print(car1.name)\n",
    "print(car1.model)\n",
    "print(car1.color)\n",
    "print(car1.price)\n",
    "print(car1.madein)\n",
    "print('\\n')\n",
    "\n",
    "car2 = Car('Mercedez','S-Class', 'Black',650000000, 1965)\n",
    "print(car2.name)\n",
    "print(car2.model)\n",
    "print(car2.color)\n",
    "print(car2.price)\n",
    "print(car2.madein)\n",
    "print('\\n')\n",
    "\n",
    "car3 = Car('toyota','corolla', 'white',2625000, 2018)\n",
    "print(car3.name)\n",
    "print(car3.model)\n",
    "print(car3.color)\n",
    "print(car3.price)\n",
    "print(car3.madein)\n",
    "print('\\n')\n",
    "\n",
    "car4 = Car('Honda','Grace', 'red',55000000, 2014)\n",
    "print(car4.name)\n",
    "print(car4.model)\n",
    "print(car4.color)\n",
    "print(car4.price)\n",
    "print(car4.madein)\n",
    "print('\\n')\n",
    "\n",
    "car5 = Car('Alto','hatch', 'black',2500000, 1985)\n",
    "print(car5.name)\n",
    "print(car5.model)\n",
    "print(car5.color)\n",
    "print(car5.price)\n",
    "print(car5.madein)\n",
    "print('\\n')\n"
   ]
  },
  {
   "cell_type": "code",
   "execution_count": 6,
   "metadata": {},
   "outputs": [
    {
     "name": "stdout",
     "output_type": "stream",
     "text": [
      "cultus\n",
      "suzuki\n",
      "suzuki swift\n",
      "white\n",
      "black\n",
      "45000000\n",
      "5\n",
      "1985\n",
      "\n",
      "\n"
     ]
    }
   ],
   "source": [
    "class Car():\n",
    "    def __init__(car,name,model,color,price,madein):\n",
    "        car.name = name\n",
    "        car.model = model\n",
    "        car.color = color\n",
    "        car.price = price\n",
    "        car.madein = madein\n",
    "        \n",
    "    def updatename(car,newName):\n",
    "        car.name = newName\n",
    "        \n",
    "    def updateprice(car,newprice):\n",
    "        car.price += newprice\n",
    "        \n",
    "    def updatecolor(car,newcolor):\n",
    "        car.color = newcolor\n",
    "        \n",
    "        \n",
    "        \n",
    "car1 = Car('cultus','suzuki swift', 'white',45000000, 1985)\n",
    "print(car1.name)\n",
    "car1.name = 'suzuki'\n",
    "print(car1.name)\n",
    "print(car1.model)\n",
    "print(car1.color)\n",
    "car1.color = 'black'\n",
    "print(car1.color)\n",
    "print(car1.price)\n",
    "car1.price = '5'\n",
    "print(car1.price)\n",
    "print(car1.madein)\n",
    "print('\\n')\n"
   ]
  },
  {
   "cell_type": "code",
   "execution_count": null,
   "metadata": {},
   "outputs": [],
   "source": []
  },
  {
   "cell_type": "code",
   "execution_count": null,
   "metadata": {},
   "outputs": [],
   "source": []
  },
  {
   "cell_type": "code",
   "execution_count": null,
   "metadata": {},
   "outputs": [],
   "source": []
  },
  {
   "cell_type": "code",
   "execution_count": null,
   "metadata": {},
   "outputs": [],
   "source": []
  },
  {
   "cell_type": "code",
   "execution_count": null,
   "metadata": {},
   "outputs": [],
   "source": []
  },
  {
   "cell_type": "code",
   "execution_count": null,
   "metadata": {},
   "outputs": [],
   "source": []
  },
  {
   "cell_type": "code",
   "execution_count": null,
   "metadata": {},
   "outputs": [],
   "source": []
  },
  {
   "cell_type": "code",
   "execution_count": null,
   "metadata": {},
   "outputs": [],
   "source": []
  },
  {
   "cell_type": "code",
   "execution_count": null,
   "metadata": {},
   "outputs": [],
   "source": []
  },
  {
   "cell_type": "code",
   "execution_count": null,
   "metadata": {},
   "outputs": [],
   "source": []
  },
  {
   "cell_type": "code",
   "execution_count": null,
   "metadata": {},
   "outputs": [],
   "source": []
  },
  {
   "cell_type": "code",
   "execution_count": null,
   "metadata": {},
   "outputs": [],
   "source": []
  },
  {
   "cell_type": "code",
   "execution_count": null,
   "metadata": {},
   "outputs": [],
   "source": []
  }
 ],
 "metadata": {
  "kernelspec": {
   "display_name": "Python 3",
   "language": "python",
   "name": "python3"
  },
  "language_info": {
   "codemirror_mode": {
    "name": "ipython",
    "version": 3
   },
   "file_extension": ".py",
   "mimetype": "text/x-python",
   "name": "python",
   "nbconvert_exporter": "python",
   "pygments_lexer": "ipython3",
   "version": "3.7.4"
  }
 },
 "nbformat": 4,
 "nbformat_minor": 2
}
